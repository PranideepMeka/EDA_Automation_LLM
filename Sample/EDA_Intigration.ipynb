import pandas as pd
import numpy as np
import warnings
warnings.filterwarnings("ignore")

import matplotlib.pyplot as plt
import seaborn as sns 
import plotly.express as px

def Data():
    data=pd.read_csv("titanic_dataset_final.csv")
    return data

df=Data()
df.head()

    