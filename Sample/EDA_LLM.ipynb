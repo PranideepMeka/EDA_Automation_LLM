{
 "cells": [
  {
   "cell_type": "code",
   "execution_count": 5,
   "metadata": {},
   "outputs": [],
   "source": [
    "import io \n",
    "import os\n",
    "import sys\n",
    "import pandas as pd\n",
    "import numpy as np\n",
    "import warnings\n",
    "warnings.filterwarnings(\"ignore\")\n",
    "\n",
    "import matplotlib.pyplot as plt\n",
    "import seaborn as sns \n",
    "import plotly.express as px\n",
    "import ollama\n",
    "\n",
    "import gradio as gr\n"
   ]
  },
  {
   "cell_type": "code",
   "execution_count": 6,
   "metadata": {},
   "outputs": [],
   "source": [
    "def Data():\n",
    "    data=pd.read_csv(\"titanic_ dataset_final.csv\")\n",
    "    return data\n",
    "\n",
    "df=Data()\n",
    "\n",
    "\n",
    "    "
   ]
  },
  {
   "cell_type": "code",
   "execution_count": 11,
   "metadata": {},
   "outputs": [
    {
     "data": {
      "text/html": [
       "<div>\n",
       "<style scoped>\n",
       "    .dataframe tbody tr th:only-of-type {\n",
       "        vertical-align: middle;\n",
       "    }\n",
       "\n",
       "    .dataframe tbody tr th {\n",
       "        vertical-align: top;\n",
       "    }\n",
       "\n",
       "    .dataframe thead th {\n",
       "        text-align: right;\n",
       "    }\n",
       "</style>\n",
       "<table border=\"1\" class=\"dataframe\">\n",
       "  <thead>\n",
       "    <tr style=\"text-align: right;\">\n",
       "      <th></th>\n",
       "      <th>PassengerId</th>\n",
       "      <th>Survived</th>\n",
       "      <th>Pclass</th>\n",
       "      <th>Name</th>\n",
       "      <th>Sex</th>\n",
       "      <th>Age</th>\n",
       "      <th>SibSp</th>\n",
       "      <th>Parch</th>\n",
       "      <th>Ticket</th>\n",
       "      <th>Fare</th>\n",
       "      <th>Cabin</th>\n",
       "      <th>Embarked</th>\n",
       "    </tr>\n",
       "  </thead>\n",
       "  <tbody>\n",
       "    <tr>\n",
       "      <th>0</th>\n",
       "      <td>1</td>\n",
       "      <td>0</td>\n",
       "      <td>3</td>\n",
       "      <td>Braund, Mr. Owen Harris</td>\n",
       "      <td>male</td>\n",
       "      <td>22.0</td>\n",
       "      <td>1</td>\n",
       "      <td>0</td>\n",
       "      <td>A/5 21171</td>\n",
       "      <td>7.2500</td>\n",
       "      <td>NaN</td>\n",
       "      <td>S</td>\n",
       "    </tr>\n",
       "    <tr>\n",
       "      <th>1</th>\n",
       "      <td>2</td>\n",
       "      <td>1</td>\n",
       "      <td>1</td>\n",
       "      <td>Cumings, Mrs. John Bradley (Florence Briggs Th...</td>\n",
       "      <td>female</td>\n",
       "      <td>38.0</td>\n",
       "      <td>1</td>\n",
       "      <td>0</td>\n",
       "      <td>PC 17599</td>\n",
       "      <td>71.2833</td>\n",
       "      <td>C85</td>\n",
       "      <td>C</td>\n",
       "    </tr>\n",
       "    <tr>\n",
       "      <th>2</th>\n",
       "      <td>3</td>\n",
       "      <td>1</td>\n",
       "      <td>3</td>\n",
       "      <td>Heikkinen, Miss. Laina</td>\n",
       "      <td>female</td>\n",
       "      <td>26.0</td>\n",
       "      <td>0</td>\n",
       "      <td>0</td>\n",
       "      <td>STON/O2. 3101282</td>\n",
       "      <td>7.9250</td>\n",
       "      <td>NaN</td>\n",
       "      <td>S</td>\n",
       "    </tr>\n",
       "    <tr>\n",
       "      <th>3</th>\n",
       "      <td>4</td>\n",
       "      <td>1</td>\n",
       "      <td>1</td>\n",
       "      <td>Futrelle, Mrs. Jacques Heath (Lily May Peel)</td>\n",
       "      <td>female</td>\n",
       "      <td>35.0</td>\n",
       "      <td>1</td>\n",
       "      <td>0</td>\n",
       "      <td>113803</td>\n",
       "      <td>53.1000</td>\n",
       "      <td>C123</td>\n",
       "      <td>S</td>\n",
       "    </tr>\n",
       "    <tr>\n",
       "      <th>4</th>\n",
       "      <td>5</td>\n",
       "      <td>0</td>\n",
       "      <td>3</td>\n",
       "      <td>Allen, Mr. William Henry</td>\n",
       "      <td>male</td>\n",
       "      <td>35.0</td>\n",
       "      <td>0</td>\n",
       "      <td>0</td>\n",
       "      <td>373450</td>\n",
       "      <td>8.0500</td>\n",
       "      <td>NaN</td>\n",
       "      <td>S</td>\n",
       "    </tr>\n",
       "  </tbody>\n",
       "</table>\n",
       "</div>"
      ],
      "text/plain": [
       "   PassengerId  Survived  Pclass  \\\n",
       "0            1         0       3   \n",
       "1            2         1       1   \n",
       "2            3         1       3   \n",
       "3            4         1       1   \n",
       "4            5         0       3   \n",
       "\n",
       "                                                Name     Sex   Age  SibSp  \\\n",
       "0                            Braund, Mr. Owen Harris    male  22.0      1   \n",
       "1  Cumings, Mrs. John Bradley (Florence Briggs Th...  female  38.0      1   \n",
       "2                             Heikkinen, Miss. Laina  female  26.0      0   \n",
       "3       Futrelle, Mrs. Jacques Heath (Lily May Peel)  female  35.0      1   \n",
       "4                           Allen, Mr. William Henry    male  35.0      0   \n",
       "\n",
       "   Parch            Ticket     Fare Cabin Embarked  \n",
       "0      0         A/5 21171   7.2500   NaN        S  \n",
       "1      0          PC 17599  71.2833   C85        C  \n",
       "2      0  STON/O2. 3101282   7.9250   NaN        S  \n",
       "3      0            113803  53.1000  C123        S  \n",
       "4      0            373450   8.0500   NaN        S  "
      ]
     },
     "execution_count": 11,
     "metadata": {},
     "output_type": "execute_result"
    }
   ],
   "source": [
    "df.head()"
   ]
  },
  {
   "cell_type": "code",
   "execution_count": 7,
   "metadata": {},
   "outputs": [
    {
     "name": "stdout",
     "output_type": "stream",
     "text": [
      "<class 'pandas.core.frame.DataFrame'>\n",
      "RangeIndex: 891 entries, 0 to 890\n",
      "Data columns (total 12 columns):\n",
      " #   Column       Non-Null Count  Dtype  \n",
      "---  ------       --------------  -----  \n",
      " 0   PassengerId  891 non-null    int64  \n",
      " 1   Survived     891 non-null    int64  \n",
      " 2   Pclass       891 non-null    int64  \n",
      " 3   Name         891 non-null    object \n",
      " 4   Sex          891 non-null    object \n",
      " 5   Age          714 non-null    float64\n",
      " 6   SibSp        891 non-null    int64  \n",
      " 7   Parch        891 non-null    int64  \n",
      " 8   Ticket       891 non-null    object \n",
      " 9   Fare         891 non-null    float64\n",
      " 10  Cabin        204 non-null    object \n",
      " 11  Embarked     889 non-null    object \n",
      "dtypes: float64(2), int64(5), object(5)\n",
      "memory usage: 83.7+ KB\n"
     ]
    }
   ],
   "source": [
    "df.info()"
   ]
  },
  {
   "cell_type": "code",
   "execution_count": 8,
   "metadata": {},
   "outputs": [
    {
     "data": {
      "text/plain": [
       "(891, 12)"
      ]
     },
     "execution_count": 8,
     "metadata": {},
     "output_type": "execute_result"
    }
   ],
   "source": [
    "df.shape"
   ]
  },
  {
   "cell_type": "code",
   "execution_count": 9,
   "metadata": {},
   "outputs": [
    {
     "data": {
      "text/plain": [
       "10692"
      ]
     },
     "execution_count": 9,
     "metadata": {},
     "output_type": "execute_result"
    }
   ],
   "source": [
    "df.size"
   ]
  },
  {
   "cell_type": "code",
   "execution_count": 14,
   "metadata": {},
   "outputs": [
    {
     "name": "stdout",
     "output_type": "stream",
     "text": [
      "Generated insights:\n",
      "\n",
      " 1. The Titanic dataset contains a total of 10,692 observations (rows). Out of these, only 891 instances are completely filled, indicating that a significant portion of the data is missing or unknown. This could be due to various reasons such as lack of documentation, loss of records during the journey, or privacy concerns.\n",
      "\n",
      "2. The dataset has eight distinct features: PassengerId, Survived, Pclass, Name, Sex, Age, SibSp, Parch, Ticket, Fare, Cabin, and Embarked. However, only 891 instances contain data for all these features, while the rest have missing or unknown values.\n",
      "\n",
      "3. The majority of passengers are male (645), with a smaller percentage of females (246). This suggests that the Titanic was predominantly a male-dominated voyage.\n",
      "\n",
      "4. The average age of passengers is 30, with a standard deviation of 15. This indicates a wide range of ages, from infants to elderly passengers. However, it's important to note that over half (57%) of the passengers do not have an explicitly defined age value.\n",
      "\n",
      "5. The Pclass column represents the passenger's ticket class: 1st (highest), 2nd, or 3rd (lowest). On average, most passengers traveled in 3rd class, with a mode of 3 and mean of approximately 2. This suggests that the majority of passengers were traveling in the less expensive third-class cabins.\n",
      "\n",
      "6. The Survived column indicates whether each passenger survived or perished during the Titanic disaster. Since all values are either 0 (perished) or 1 (survived), it can be interpreted that around half of the passengers did not survive the disaster.\n",
      "\n",
      "7. The SibSp and Parch columns represent the number of siblings and parents/children, respectively, aboard the Titanic with the same individual. These variables may help identify patterns related to family size or group travel, which could have played a role in survival rates during the sinking.\n",
      "\n",
      "8. The Ticket, Fare, Cabin, and Embarked columns contain information about the passengers' ticket details, fares, cabin allocation, and embarkation port (Cherbourg, Southampton, or Queenstown). However, these variables are mostly missing or unknown, making it difficult to draw meaningful insights from them.\n",
      "\n",
      "Overall, the dataset presents a unique opportunity to analyze various aspects of the Titanic disaster, such as survival rates, passenger demographics, and the role of ticket class. Further analysis could also explore the impact of family size and group travel on survivability during the sinking event. Due to the high rate of missing data, it is essential to employ suitable techniques for handling and imputing missing values before conducting further analysis.\n"
     ]
    }
   ],
   "source": [
    "\"\"\"For Testing the peice of chunk for local system and used for the Gradio UI\n",
    "    \"\"\"\n",
    "\n",
    "def generate_insights(df_summary, df_size, df_shape, df_info):\n",
    "    #Generating output\n",
    "    prompt = f\"\"\"\n",
    "    **Dataset Analysis Report** \n",
    "\n",
    "    ###  **1. Dataset Summary**  \n",
    "    ```\n",
    "    {df_summary}\n",
    "    ```\n",
    "\n",
    "    ### **2. Dataset Size**  \n",
    "    - **Total Elements:** {df_size}\n",
    "\n",
    "    ### **3. Dataset Shape**  \n",
    "    - **Rows:** {df_shape[0]}\n",
    "    - **Columns:** {df_shape[1]}\n",
    "\n",
    "    ### 🔹 **4. Dataset Info**  \n",
    "    ```\n",
    "    {df_info}\n",
    "    ```\n",
    "\n",
    "     **Based on this analysis, generate key insights about the dataset.**\n",
    "    \"\"\"\n",
    "\n",
    "    response = ollama.chat(model=\"mistral\", messages=[{\"role\": \"user\", \"content\": prompt}])\n",
    "    return response['message']['content']\n",
    "\n",
    "#To_string conversion for LLM automatic Embeddings\n",
    "buffer = io.StringIO()\n",
    "df.info(buf=buffer)\n",
    "df_info = buffer.getvalue()\n",
    "df_summary = df.describe().round().to_string()\n",
    "df_size = str(df.size)\n",
    "df_shape = str(df.shape)\n",
    "\n",
    "# Generate insights\n",
    "insights = generate_insights(df_summary, df_size, df_shape, df_info)\n",
    "\n",
    "print(\"Generated insights:\\n\\n\", insights)\n"
   ]
  },
  {
   "cell_type": "code",
   "execution_count": 11,
   "metadata": {},
   "outputs": [
    {
     "name": "stdout",
     "output_type": "stream",
     "text": [
      "Running on local URL:  http://127.0.0.1:7861\n",
      "Running on public URL: https://45b1e377386a8cc77f.gradio.live\n",
      "\n",
      "This share link expires in 72 hours. For free permanent hosting and GPU upgrades, run `gradio deploy` from Terminal to deploy to Spaces (https://huggingface.co/spaces)\n"
     ]
    },
    {
     "data": {
      "text/html": [
       "<div><iframe src=\"https://45b1e377386a8cc77f.gradio.live\" width=\"100%\" height=\"500\" allow=\"autoplay; camera; microphone; clipboard-read; clipboard-write;\" frameborder=\"0\" allowfullscreen></iframe></div>"
      ],
      "text/plain": [
       "<IPython.core.display.HTML object>"
      ]
     },
     "metadata": {},
     "output_type": "display_data"
    },
    {
     "data": {
      "text/plain": []
     },
     "execution_count": 11,
     "metadata": {},
     "output_type": "execute_result"
    }
   ],
   "source": [
    "\"\"\"Main method for the basic data analysis\n",
    "\"\"\"\n",
    "def eda_analysis(file):\n",
    "    df=pd.read_csv(file)\n",
    "    buffer = io.StringIO()\n",
    "    df.info(buf=buffer)\n",
    "    df_info = buffer.getvalue()\n",
    "\n",
    "# Converting other dataset properties to strings\n",
    "    df_summary = df.describe().round().to_string()\n",
    "    df_size = str(df.size)\n",
    "    df_shape = str(df.shape)\n",
    "    insights=generate_insights(df_summary,df_info,df_shape,df_size)\n",
    "    return insights\n",
    "\n",
    "demo=gr.Interface(fn=eda_analysis,inputs=\"file\",outputs=\"text\")\n",
    "\n",
    "demo.launch(share=True)"
   ]
  },
  {
   "cell_type": "code",
   "execution_count": null,
   "metadata": {},
   "outputs": [],
   "source": []
  },
  {
   "cell_type": "code",
   "execution_count": null,
   "metadata": {},
   "outputs": [],
   "source": []
  }
 ],
 "metadata": {
  "kernelspec": {
   "display_name": "Python 3",
   "language": "python",
   "name": "python3"
  },
  "language_info": {
   "codemirror_mode": {
    "name": "ipython",
    "version": 3
   },
   "file_extension": ".py",
   "mimetype": "text/x-python",
   "name": "python",
   "nbconvert_exporter": "python",
   "pygments_lexer": "ipython3",
   "version": "3.9.6"
  }
 },
 "nbformat": 4,
 "nbformat_minor": 2
}
